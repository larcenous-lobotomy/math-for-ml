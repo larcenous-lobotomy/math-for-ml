{
  "nbformat": 4,
  "nbformat_minor": 0,
  "metadata": {
    "colab": {
      "name": "SimultaneousIteration.ipynb",
      "provenance": [],
      "collapsed_sections": []
    },
    "kernelspec": {
      "name": "python3",
      "display_name": "Python 3"
    },
    "language_info": {
      "name": "python"
    }
  },
  "cells": [
    {
      "cell_type": "markdown",
      "metadata": {
        "id": "IJ2AhFtqiDJH"
      },
      "source": [
        "# **SIMULTANEOUS ITERATION DEMONSTRATION**\n",
        "\n",
        "> Indented block\n",
        "\n"
      ]
    },
    {
      "cell_type": "code",
      "metadata": {
        "id": "v4rLtuKUib1x"
      },
      "source": [
        "#Imports\n",
        "import numpy as np\n",
        "import matplotlib.pyplot as plt"
      ],
      "execution_count": 65,
      "outputs": []
    },
    {
      "cell_type": "code",
      "metadata": {
        "colab": {
          "base_uri": "https://localhost:8080/"
        },
        "id": "zbzl3H-Wh_Ou",
        "outputId": "f85cbe11-a618-4b55-cbc0-1f7ecd826a14"
      },
      "source": [
        "#Generate random square matrix of dimension=10 with elements in (0,1)\n",
        "matrix = np.random.randint(100, size=(10,10))\n",
        "\n",
        "matrix"
      ],
      "execution_count": 66,
      "outputs": [
        {
          "output_type": "execute_result",
          "data": {
            "text/plain": [
              "array([[54, 84,  3, 45,  0, 98, 87, 29, 50, 74],\n",
              "       [93, 81, 48, 27, 30, 71, 57, 13,  9, 22],\n",
              "       [55, 15, 23,  0, 59,  0, 36, 22, 36, 47],\n",
              "       [70,  7, 32, 45, 98, 75, 49, 68, 13, 46],\n",
              "       [ 5, 89, 98, 41, 21, 90, 62,  7, 83, 88],\n",
              "       [12, 35, 49, 24, 48, 83, 48, 20, 64,  6],\n",
              "       [88, 78,  2, 74, 94, 92, 90, 66, 92, 43],\n",
              "       [94, 67, 22, 80, 42, 27, 56, 75, 51, 46],\n",
              "       [83,  5, 50, 33, 55, 18, 58, 83, 97,  1],\n",
              "       [18, 20, 38, 46, 49, 89, 61, 85, 43, 88]])"
            ]
          },
          "metadata": {},
          "execution_count": 66
        }
      ]
    },
    {
      "cell_type": "code",
      "metadata": {
        "id": "2EydNW5l1uXG",
        "colab": {
          "base_uri": "https://localhost:8080/"
        },
        "outputId": "82b69968-2a65-4569-964d-e72cfa3d3198"
      },
      "source": [
        "#obtain symmetric matrix\n",
        "symmetric_matrix = (matrix + matrix.T) / 2\n",
        "\n",
        "symmetric_matrix"
      ],
      "execution_count": 67,
      "outputs": [
        {
          "output_type": "execute_result",
          "data": {
            "text/plain": [
              "array([[54. , 88.5, 29. , 57.5,  2.5, 55. , 87.5, 61.5, 66.5, 46. ],\n",
              "       [88.5, 81. , 31.5, 17. , 59.5, 53. , 67.5, 40. ,  7. , 21. ],\n",
              "       [29. , 31.5, 23. , 16. , 78.5, 24.5, 19. , 22. , 43. , 42.5],\n",
              "       [57.5, 17. , 16. , 45. , 69.5, 49.5, 61.5, 74. , 23. , 46. ],\n",
              "       [ 2.5, 59.5, 78.5, 69.5, 21. , 69. , 78. , 24.5, 69. , 68.5],\n",
              "       [55. , 53. , 24.5, 49.5, 69. , 83. , 70. , 23.5, 41. , 47.5],\n",
              "       [87.5, 67.5, 19. , 61.5, 78. , 70. , 90. , 61. , 75. , 52. ],\n",
              "       [61.5, 40. , 22. , 74. , 24.5, 23.5, 61. , 75. , 67. , 65.5],\n",
              "       [66.5,  7. , 43. , 23. , 69. , 41. , 75. , 67. , 97. , 22. ],\n",
              "       [46. , 21. , 42.5, 46. , 68.5, 47.5, 52. , 65.5, 22. , 88. ]])"
            ]
          },
          "metadata": {},
          "execution_count": 67
        }
      ]
    },
    {
      "cell_type": "code",
      "metadata": {
        "id": "jOwtgI082Qy7",
        "colab": {
          "base_uri": "https://localhost:8080/"
        },
        "outputId": "23a0c6e0-c444-4888-ad0c-9f31efd5122f"
      },
      "source": [
        "#Numpy's built-in algorithm\n",
        "eigenvalues, eigenvectors = np.linalg.eig(symmetric_matrix)\n",
        "\n",
        "eigenvalues"
      ],
      "execution_count": 68,
      "outputs": [
        {
          "output_type": "execute_result",
          "data": {
            "text/plain": [
              "array([ 517.08214984, -118.63662362,   98.51987946,   88.2779692 ,\n",
              "         76.83378137,   42.94251172,  -46.25975677,   13.59280479,\n",
              "          3.21317153,  -18.56588752])"
            ]
          },
          "metadata": {},
          "execution_count": 68
        }
      ]
    },
    {
      "cell_type": "code",
      "metadata": {
        "id": "cPmXfvWU13No",
        "colab": {
          "base_uri": "https://localhost:8080/"
        },
        "outputId": "c1ec4cf0-1a0b-4b87-dc38-cac50caa74b2"
      },
      "source": [
        "#estimate eigenvectors\n",
        "A = symmetric_matrix\n",
        "\n",
        "#store refinement in every iteration\n",
        "eigenvalues_estimate_list = []\n",
        "differences = []\n",
        "\n",
        "#pick a starting basis for the space R^len(A)\n",
        "V = np.random.randint(100,size=(10,10))\n",
        "\n",
        "#QR decomposition for V\n",
        "q, r = np.linalg.qr(V)\n",
        "\n",
        "for k in range(100):\n",
        "    eigenvalues_estimate = []\n",
        "    for eigenvector in q.T:\n",
        "        Lambda = np.dot(np.dot(eigenvector.T, A), eigenvector) / np.dot(eigenvector.T, eigenvector)\n",
        "        eigenvalues_estimate.append(Lambda)\n",
        "\n",
        "    #differences.append(eigenvalues_estimate - eigenvalues)\n",
        "    eigenvalues_estimate_list.append(eigenvalues_estimate)\n",
        "    W = np.dot(A,q)\n",
        "    q, r = np.linalg.qr(W)\n",
        "\n",
        "q"
      ],
      "execution_count": 69,
      "outputs": [
        {
          "output_type": "execute_result",
          "data": {
            "text/plain": [
              "array([[-0.34098641,  0.43691658,  0.30791493, -0.35252605,  0.12271207,\n",
              "        -0.00601211, -0.09364037,  0.59002999, -0.28077472, -0.15137109],\n",
              "       [-0.291135  , -0.27529346,  0.66715777,  0.06046447,  0.02425867,\n",
              "         0.32041548, -0.42756722, -0.28132951,  0.15550585, -0.03608088],\n",
              "       [-0.19905555, -0.24436899, -0.16780595,  0.2926301 , -0.24255396,\n",
              "        -0.55725105, -0.4949498 ,  0.32548654,  0.16978867, -0.1943279 ],\n",
              "       [-0.28904019, -0.31561967, -0.14332736,  0.0227726 ,  0.31866358,\n",
              "         0.27550157,  0.36304323,  0.39031533,  0.56710051, -0.1121679 ],\n",
              "       [-0.32102587,  0.6691667 , -0.15471578,  0.40453338, -0.25219908,\n",
              "         0.22321636, -0.05689667, -0.11803886,  0.3326096 ,  0.14263456],\n",
              "       [-0.32180456, -0.05744753,  0.21145673,  0.34034454, -0.18006055,\n",
              "        -0.1816727 ,  0.5509779 , -0.19067194, -0.28622934, -0.49528458],\n",
              "       [-0.41634182, -0.13576562,  0.14696422, -0.1455106 , -0.10029984,\n",
              "        -0.38427108,  0.26244718, -0.05209048,  0.0109169 ,  0.73213382],\n",
              "       [-0.31793745,  0.16360044, -0.25299643, -0.38678731,  0.43134178,\n",
              "        -0.30979754, -0.12824398, -0.50791969,  0.166461  , -0.27270977],\n",
              "       [-0.32011909, -0.23491   , -0.3840731 , -0.42749905, -0.57697067,\n",
              "         0.366249  , -0.06348356, -0.05729962, -0.16704285, -0.09911244],\n",
              "       [-0.3037838 , -0.15007006, -0.33108699,  0.39102891,  0.44602381,\n",
              "         0.22418811, -0.18834273,  0.01275711, -0.54613566,  0.198934  ]])"
            ]
          },
          "metadata": {},
          "execution_count": 69
        }
      ]
    },
    {
      "cell_type": "code",
      "metadata": {
        "id": "BkzzqaowDya3"
      },
      "source": [
        "order = sorted(range(len(eigenvalues_estimate_list[0])), key=lambda x: eigenvalues_estimate_list[-1][x])\n",
        "sorted_eigenvalues_estimate_list = [[row[x] for x in order] for row in eigenvalues_estimate_list]\n",
        "\n",
        "eigenvalues.sort()\n",
        "\n",
        "differences = [[x[i] - eigenvalues[i] for i in range(len(eigenvalues))] for x in sorted_eigenvalues_estimate_list]"
      ],
      "execution_count": 70,
      "outputs": []
    },
    {
      "cell_type": "code",
      "metadata": {
        "id": "elsedGgp9-SX"
      },
      "source": [
        "differences = np.transpose(differences)"
      ],
      "execution_count": 71,
      "outputs": []
    },
    {
      "cell_type": "code",
      "metadata": {
        "colab": {
          "base_uri": "https://localhost:8080/",
          "height": 282
        },
        "id": "AFSlXDx2-l_V",
        "outputId": "0f81276f-952b-4b2e-fa3e-e34afcd5689e"
      },
      "source": [
        "plt.plot(differences[-1])"
      ],
      "execution_count": 72,
      "outputs": [
        {
          "output_type": "execute_result",
          "data": {
            "text/plain": [
              "[<matplotlib.lines.Line2D at 0x7f94c1cd5e90>]"
            ]
          },
          "metadata": {},
          "execution_count": 72
        },
        {
          "output_type": "display_data",
          "data": {
            "image/png": "[encoded data removed]",
            "text/plain": [
              "<Figure size 432x288 with 1 Axes>"
            ]
          },
          "metadata": {
            "needs_background": "light"
          }
        }
      ]
    },
    {
      "cell_type": "code",
      "metadata": {
        "colab": {
          "base_uri": "https://localhost:8080/",
          "height": 282
        },
        "id": "jCnWT7H0-wvW",
        "outputId": "1bd2d813-6982-46f2-cd86-10cbfe48ae59"
      },
      "source": [
        "plt.plot(differences[-2])"
      ],
      "execution_count": 73,
      "outputs": [
        {
          "output_type": "execute_result",
          "data": {
            "text/plain": [
              "[<matplotlib.lines.Line2D at 0x7f94c5e2f790>]"
            ]
          },
          "metadata": {},
          "execution_count": 73
        },
        {
          "output_type": "display_data",
          "data": {
            "image/png": "[encoded data removed]",
            "text/plain": [
              "<Figure size 432x288 with 1 Axes>"
            ]
          },
          "metadata": {
            "needs_background": "light"
          }
        }
      ]
    },
    {
      "cell_type": "code",
      "metadata": {
        "colab": {
          "base_uri": "https://localhost:8080/",
          "height": 282
        },
        "id": "N1OR-WCG-xww",
        "outputId": "f3e620da-d6c5-491b-cecf-f65ed51ed733"
      },
      "source": [
        "plt.plot(differences[-3])"
      ],
      "execution_count": 74,
      "outputs": [
        {
          "output_type": "execute_result",
          "data": {
            "text/plain": [
              "[<matplotlib.lines.Line2D at 0x7f94c1b3d090>]"
            ]
          },
          "metadata": {},
          "execution_count": 74
        },
        {
          "output_type": "display_data",
          "data": {
            "image/png": "[encoded data removed]",
            "text/plain": [
              "<Figure size 432x288 with 1 Axes>"
            ]
          },
          "metadata": {
            "needs_background": "light"
          }
        }
      ]
    },
    {
      "cell_type": "code",
      "metadata": {
        "colab": {
          "base_uri": "https://localhost:8080/",
          "height": 282
        },
        "id": "vQ1eZiXr-yZU",
        "outputId": "97db049c-af28-4fae-95db-49c2555642f8"
      },
      "source": [
        "plt.plot(differences[-4])"
      ],
      "execution_count": 75,
      "outputs": [
        {
          "output_type": "execute_result",
          "data": {
            "text/plain": [
              "[<matplotlib.lines.Line2D at 0x7f94c1b27450>]"
            ]
          },
          "metadata": {},
          "execution_count": 75
        },
        {
          "output_type": "display_data",
          "data": {
            "image/png": "[encoded data removed]",
            "text/plain": [
              "<Figure size 432x288 with 1 Axes>"
            ]
          },
          "metadata": {
            "needs_background": "light"
          }
        }
      ]
    },
    {
      "cell_type": "code",
      "metadata": {
        "colab": {
          "base_uri": "https://localhost:8080/",
          "height": 282
        },
        "id": "Dh8pygQu-zF8",
        "outputId": "37cd161d-34cc-493e-9be1-6a681845f213"
      },
      "source": [
        "plt.plot(differences[-5])"
      ],
      "execution_count": 76,
      "outputs": [
        {
          "output_type": "execute_result",
          "data": {
            "text/plain": [
              "[<matplotlib.lines.Line2D at 0x7f94c1a9b110>]"
            ]
          },
          "metadata": {},
          "execution_count": 76
        },
        {
          "output_type": "display_data",
          "data": {
            "image/png": "[encoded data removed]",
            "text/plain": [
              "<Figure size 432x288 with 1 Axes>"
            ]
          },
          "metadata": {
            "needs_background": "light"
          }
        }
      ]
    }
  ]
}